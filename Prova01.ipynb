{
 "cells": [
  {
   "cell_type": "code",
   "execution_count": 2,
   "id": "1053c935-5660-48b5-87fc-8d4e016e1b2d",
   "metadata": {},
   "outputs": [
    {
     "name": "stdin",
     "output_type": "stream",
     "text": [
      "Digite um número inteiro:  10\n",
      "Digite um número inteiro:  20\n",
      "Digite um número inteiro:  30\n"
     ]
    },
    {
     "name": "stdout",
     "output_type": "stream",
     "text": [
      "A média dos dois maiores número é: 0.0\n"
     ]
    }
   ],
   "source": [
    "#Script para a Prova 01 - Média Arimtética dos dois maiores números \n",
    "\n",
    "soma_num = 0\n",
    "\n",
    "num1 = int(input(f\"Digite um número inteiro: \"))\n",
    "num2 = int(input(f\"Digite um número inteiro: \"))\n",
    "num3 = int(input(f\"Digite um número inteiro: \"))\n",
    "if num1 > num2 or num1 > num3:\n",
    "    soma_num = soma_num + num1\n",
    "    if num2 > num1 or num2 > num3:\n",
    "        soma_num = soma_num + num2\n",
    "        if num3 > num1 or num3 > num2:\n",
    "            soma_num = soma_num + num3\n",
    "print(f\"A média dos dois maiores número é: {soma_num/2}\")\n",
    "    "
   ]
  },
  {
   "cell_type": "code",
   "execution_count": null,
   "id": "01574334-9286-456d-801a-8c8687a79007",
   "metadata": {},
   "outputs": [],
   "source": []
  }
 ],
 "metadata": {
  "kernelspec": {
   "display_name": "Python 3 (ipykernel)",
   "language": "python",
   "name": "python3"
  },
  "language_info": {
   "codemirror_mode": {
    "name": "ipython",
    "version": 3
   },
   "file_extension": ".py",
   "mimetype": "text/x-python",
   "name": "python",
   "nbconvert_exporter": "python",
   "pygments_lexer": "ipython3",
   "version": "3.11.7"
  }
 },
 "nbformat": 4,
 "nbformat_minor": 5
}
